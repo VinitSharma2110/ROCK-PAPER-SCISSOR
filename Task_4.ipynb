{
 "cells": [
  {
   "cell_type": "code",
   "execution_count": null,
   "id": "1d161126-d567-444a-94b4-61c978d107cb",
   "metadata": {},
   "outputs": [],
   "source": [
    "from IPython import display"
   ]
  },
  {
   "cell_type": "code",
   "execution_count": null,
   "id": "fc26829f-ea1d-4732-8214-ebdacdb35a8a",
   "metadata": {},
   "outputs": [],
   "source": [
    "display.Image(\"D:/4. CodSoft/TASK4.png\")"
   ]
  },
  {
   "cell_type": "code",
   "execution_count": null,
   "id": "82aed2a5-61e0-43cd-978f-ba2a8df576e1",
   "metadata": {},
   "outputs": [],
   "source": [
    "import random\n",
    "\n",
    "def get_user_choice():\n",
    "    print(\"\\nChoose your move:\")\n",
    "    print(\"1. Rock\\n2. Paper\\n3. Scissors\")\n",
    "    choices = {'1': 'rock', '2': 'paper', '3': 'scissors'}\n",
    "    \n",
    "    while True:\n",
    "        user_input = input(\"Enter 1, 2, or 3: \").strip()\n",
    "        if user_input in choices:\n",
    "            return choices[user_input]\n",
    "        else:\n",
    "            print(\"Invalid input. Please try again.\")\n",
    "\n",
    "def get_computer_choice():\n",
    "    return random.choice(['rock', 'paper', 'scissors'])\n",
    "\n",
    "def determine_winner(user, computer):\n",
    "    if user == computer:\n",
    "        return \"tie\"\n",
    "    elif (user == 'rock' and computer == 'scissors') or \\\n",
    "         (user == 'scissors' and computer == 'paper') or \\\n",
    "         (user == 'paper' and computer == 'rock'):\n",
    "        return \"user\"\n",
    "    else:\n",
    "        return \"computer\"\n",
    "\n",
    "def display_results(user_choice, computer_choice, result):\n",
    "    print(f\"\\nYour choice: {user_choice.capitalize()}\")\n",
    "    print(f\"Computer's choice: {computer_choice.capitalize()}\")\n",
    "    \n",
    "    if result == \"tie\":\n",
    "        print(\"It's a tie!\")\n",
    "    elif result == \"user\":\n",
    "        print(\"Congratulations! You win! 🎉\")\n",
    "    else:\n",
    "        print(\"Computer wins! Better luck next time. 🤖\")\n",
    "\n",
    "def play_game():\n",
    "    user_score = 0\n",
    "    computer_score = 0\n",
    "\n",
    "    while True:\n",
    "        user_choice = get_user_choice()\n",
    "        computer_choice = get_computer_choice()\n",
    "        result = determine_winner(user_choice, computer_choice)\n",
    "        \n",
    "        display_results(user_choice, computer_choice, result)\n",
    "        \n",
    "        if result == \"user\":\n",
    "            user_score += 1\n",
    "        elif result == \"computer\":\n",
    "            computer_score += 1\n",
    "        \n",
    "        print(f\"\\nScores: You {user_score} - {computer_score} Computer\")\n",
    "        \n",
    "        play_again = input(\"\\nDo you want to play again? (y/n): \").strip().lower()\n",
    "        if play_again != 'y':\n",
    "            print(\"\\nThanks for playing! Final Scores:\")\n",
    "            print(f\"You: {user_score} | Computer: {computer_score}\")\n",
    "            break\n",
    "\n",
    "# Start the game\n",
    "play_game()"
   ]
  }
 ],
 "metadata": {
  "kernelspec": {
   "display_name": "Python 3 (ipykernel)",
   "language": "python",
   "name": "python3"
  },
  "language_info": {
   "codemirror_mode": {
    "name": "ipython",
    "version": 3
   },
   "file_extension": ".py",
   "mimetype": "text/x-python",
   "name": "python",
   "nbconvert_exporter": "python",
   "pygments_lexer": "ipython3",
   "version": "3.12.4"
  }
 },
 "nbformat": 4,
 "nbformat_minor": 5
}
